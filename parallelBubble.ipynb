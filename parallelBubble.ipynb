{
 "cells": [
  {
   "cell_type": "code",
   "execution_count": 2,
   "metadata": {
    "colab": {},
    "colab_type": "code",
    "collapsed": true,
    "id": "grgAljheOTcS"
   },
   "outputs": [],
   "source": [
    "code = \"\"\"\n",
    "#include<omp.h>\n",
    "#include<iostream>\n",
    "using namespace std;\n",
    "\n",
    "void swap(int *num1, int *num2) {\n",
    "    int temp = *num1;\n",
    "    *num1 = *num2;\n",
    "    *num2 = temp;\n",
    "}\n",
    "\n",
    "int main() {\n",
    "    int n = 10;\n",
    "    int a[size];\n",
    "    \n",
    "    omp_set_num_threads(2);\n",
    "    \n",
    "    for(int i=0; i<n; i++) {\n",
    "        a[i] = rand()% 100;\n",
    "    }\n",
    "    \n",
    "    for(int i=0; i<n; i++) \n",
    "        cout<<\"  \"<<a[i];\n",
    "    cout<<endl;\n",
    "    \n",
    "    int i=0, j=0;\n",
    "    int first=0;\n",
    "    double start, end;\n",
    "    \n",
    "    start = omp_get_wtime();\n",
    "    for(i=0; i<n-1; i++) {\n",
    "        first = i%2;\n",
    "        #pragma omp parallel for\n",
    "        for(j=first; j<n-1; j++) {\n",
    "            if(a[j] > a[j+1])\n",
    "              swap(&a[j], &a[j+1]);\n",
    "        }\n",
    "    }\n",
    "    \n",
    "    end = omp_get_wtime();\n",
    "    cout<<\"Result(parallel) : \"<<endl;\n",
    "    for(i=0; i<n; i++)\n",
    "      cout<<\"  \"<<a[i];\n",
    "    cout<<endl;\n",
    "    \n",
    "    cout<<\"Time parallel = \"<<(end-start)<<endl;\n",
    "    \n",
    "    return 0;\n",
    "    \n",
    "}\n",
    "\"\"\""
   ]
  },
  {
   "cell_type": "code",
   "execution_count": 3,
   "metadata": {
    "colab": {},
    "colab_type": "code",
    "collapsed": true,
    "id": "HSdRiH94Oan5"
   },
   "outputs": [],
   "source": [
    "text_file = open(\"code.cpp\", \"w\")\n",
    "text_file.write(code)\n",
    "text_file.close()"
   ]
  },
  {
   "cell_type": "code",
   "execution_count": 0,
   "metadata": {
    "colab": {},
    "colab_type": "code",
    "collapsed": true,
    "id": "ITKer6TqOdV4"
   },
   "outputs": [],
   "source": [
    "!g++ -fopenmp code.cpp"
   ]
  },
  {
   "cell_type": "code",
   "execution_count": 8,
   "metadata": {
    "colab": {
     "base_uri": "https://localhost:8080/",
     "height": 85
    },
    "colab_type": "code",
    "id": "byBDi9IwOfPZ",
    "outputId": "659bd571-93ab-45b7-9245-5791e5f01cd8"
   },
   "outputs": [
    {
     "name": "stdout",
     "output_type": "stream",
     "text": [
      "  83  86  77  15  93  35  86  92  49  21\n",
      "Result(parallel) : \n",
      "  15  21  35  49  77  83  86  86  92  93\n",
      "Time parallel = 0.000503332\n"
     ]
    }
   ],
   "source": [
    "!./a.out"
   ]
  },
  {
   "cell_type": "code",
   "execution_count": 0,
   "metadata": {
    "colab": {},
    "colab_type": "code",
    "collapsed": true,
    "id": "eefTAnVJOhPp"
   },
   "outputs": [],
   "source": []
  }
 ],
 "metadata": {
  "accelerator": "GPU",
  "colab": {
   "name": "parallelBubble.ipynb",
   "provenance": []
  },
  "kernelspec": {
   "display_name": "Python 3",
   "language": "python",
   "name": "python3"
  },
  "language_info": {
   "codemirror_mode": {
    "name": "ipython",
    "version": 3
   },
   "file_extension": ".py",
   "mimetype": "text/x-python",
   "name": "python",
   "nbconvert_exporter": "python",
   "pygments_lexer": "ipython3",
   "version": "3.6.3"
  }
 },
 "nbformat": 4,
 "nbformat_minor": 1
}
