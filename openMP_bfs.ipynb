{
 "cells": [
  {
   "cell_type": "code",
   "execution_count": 0,
   "metadata": {
    "colab": {},
    "colab_type": "code",
    "collapsed": true,
    "id": "gMZIMVjOgG4B"
   },
   "outputs": [],
   "source": [
    "code = \"\"\"\n",
    "#include<iostream>\n",
    "#include<omp.h>\n",
    "\n",
    "using namespace std;\n",
    "int q[100];\n",
    "int visited[7];\n",
    "int local_q;\n",
    "\n",
    "void bfs(int adj_matrix[7][7], int first, int last, int q[], int n_nodes) {\n",
    "    if(first==last)\n",
    "      return;\n",
    "    \n",
    "    int cur_node = q[first++];\n",
    "    cout<<\"  \"<<cur_node;\n",
    "    \n",
    "    omp_set_num_threads(3);\n",
    "    \n",
    "    #pragma omp parallel for shared(visited)\n",
    "    for(int i=0; i<n_nodes; i++) {\n",
    "        if(adj_matrix[cur_node][i] == 1 && visited[i] == 0){\n",
    "            q[last++] = i;\n",
    "            visited[i] = 1;\n",
    "        }\n",
    "    }\n",
    "    \n",
    "    bfs(adj_matrix, first, last, q, n_nodes);\n",
    "}\n",
    "\n",
    "int main() {\n",
    "    int first = -1;\n",
    "    int last = 0;\n",
    "    int n_nodes = 7;\n",
    "    \n",
    "    for(int i=0; i<n_nodes; i++) {\n",
    "        visited[i] = 0;\n",
    "    }\n",
    "    \n",
    "    int adj_matrix[7][7] = {\n",
    "      {0, 1, 1, 0, 0, 0, 0},\n",
    "      {1, 0, 1, 1, 0, 0, 0},\n",
    "      {1, 1, 0, 0, 1, 0, 0},\n",
    "      {0, 1, 0, 0, 1, 0, 0},\n",
    "      {0, 0, 1, 1, 0, 1, 0},\n",
    "      {0, 0, 0, 0, 1, 0, 1},\n",
    "      {0, 0, 0, 0, 0, 1, 0}\n",
    "    };\n",
    "    \n",
    "    int start_node = 3;\n",
    "    q[last++] = start_node;\n",
    "    first++;\n",
    "    visited[start_node] = 1;\n",
    " \n",
    "    bfs(adj_matrix, first, last, q, n_nodes);\n",
    "    \n",
    "    return 0;\n",
    "    \n",
    "}\n",
    "\"\"\""
   ]
  },
  {
   "cell_type": "code",
   "execution_count": 0,
   "metadata": {
    "colab": {},
    "colab_type": "code",
    "collapsed": true,
    "id": "MGacSLgXjHub"
   },
   "outputs": [],
   "source": [
    "text_file = open(\"code.cpp\", \"w\")\n",
    "text_file.write(code)\n",
    "text_file.close()"
   ]
  },
  {
   "cell_type": "code",
   "execution_count": 0,
   "metadata": {
    "colab": {},
    "colab_type": "code",
    "collapsed": true,
    "id": "ui7_gDGSjOyh"
   },
   "outputs": [],
   "source": [
    "!g++ -fopenmp code.cpp"
   ]
  },
  {
   "cell_type": "code",
   "execution_count": 12,
   "metadata": {
    "colab": {
     "base_uri": "https://localhost:8080/",
     "height": 34
    },
    "colab_type": "code",
    "id": "mFGFMWeojVmy",
    "outputId": "6f834532-24dc-443d-a908-0cfd1492e64e"
   },
   "outputs": [
    {
     "name": "stdout",
     "output_type": "stream",
     "text": [
      "  3  1  4  0  2  5  6"
     ]
    }
   ],
   "source": [
    "!./a.out"
   ]
  },
  {
   "cell_type": "code",
   "execution_count": 0,
   "metadata": {
    "colab": {},
    "colab_type": "code",
    "collapsed": true,
    "id": "ZDE8ytbVjhWj"
   },
   "outputs": [],
   "source": []
  }
 ],
 "metadata": {
  "accelerator": "GPU",
  "colab": {
   "name": "openMP_bfs.ipynb",
   "provenance": []
  },
  "kernelspec": {
   "display_name": "Python 3",
   "language": "python",
   "name": "python3"
  },
  "language_info": {
   "codemirror_mode": {
    "name": "ipython",
    "version": 3
   },
   "file_extension": ".py",
   "mimetype": "text/x-python",
   "name": "python",
   "nbconvert_exporter": "python",
   "pygments_lexer": "ipython3",
   "version": "3.6.3"
  }
 },
 "nbformat": 4,
 "nbformat_minor": 1
}
