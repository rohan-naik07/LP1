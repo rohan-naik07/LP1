{
 "cells": [
  {
   "cell_type": "code",
   "execution_count": 0,
   "metadata": {
    "colab": {},
    "colab_type": "code",
    "collapsed": true,
    "id": "FAYXRc5b_UMQ"
   },
   "outputs": [],
   "source": [
    "code = \"\"\"\n",
    "#include<iostream>\n",
    "#include<omp.h>\n",
    "\n",
    "using namespace std;\n",
    "\n",
    "void printArray(int *arr, int size) {\n",
    "    for(int i=0; i<size; i++) {\n",
    "         cout<<arr[i]<<\"  \";\n",
    "    }\n",
    "    cout<<endl;\n",
    "}\n",
    "\n",
    "void merge(int* arr, int start, int mid, int end) {\n",
    "    int len = (end - start) + 1;\n",
    "    int temp[len];\n",
    "    int cur = 0;\n",
    "    \n",
    "    int i = start;\n",
    "    int j = mid + 1;\n",
    "    while(i <= mid && j <= end){\n",
    "        if(arr[i] < arr[j]) {\n",
    "            temp[cur] = arr[i];\n",
    "            cur++;\n",
    "            i++;\n",
    "        }\n",
    "        else {\n",
    "            temp[cur] = arr[j];\n",
    "            cur++;\n",
    "            j++;\n",
    "        }\n",
    "    }\n",
    "    if(i <= mid) {\n",
    "        while(i <= mid) {\n",
    "            temp[cur] = arr[i];\n",
    "            i++;\n",
    "            cur++;\n",
    "        }\n",
    "    }\n",
    "    \n",
    "    else if(j <= end) {\n",
    "        while(j <= end) {\n",
    "            temp[cur] = arr[j];\n",
    "            j++;\n",
    "            cur++;\n",
    "        }\n",
    "    }\n",
    "    \n",
    "    cur = 0;\n",
    "    for(i=start; i<=end; i++) {\n",
    "        arr[i] = temp[cur];\n",
    "        cur++;\n",
    "    }\n",
    "\n",
    "}\n",
    "\n",
    "void mergeSort(int *arr, int start, int end) {\n",
    "    if(start < end) {\n",
    "        int mid = (start+end) / 2;\n",
    "        \n",
    "        #pragma omp parallel sections\n",
    "        {\n",
    "            #pragma omp section\n",
    "            mergeSort(arr, start, mid);\n",
    "            \n",
    "            #pragma omp section\n",
    "            mergeSort(arr, mid+1, end);\n",
    "        }\n",
    "        \n",
    "        merge(arr, start, mid, end);\n",
    "    \n",
    "    }\n",
    "}\n",
    "\n",
    "int main(int argc, char *argv[]) {\n",
    "    int size = 10;\n",
    "    int a[size];\n",
    "    \n",
    "    double start, end;\n",
    "    \n",
    "    omp_set_num_threads(2);\n",
    "    \n",
    "    for(int i=0; i<size; i++) {\n",
    "        a[i] = rand()% 100;\n",
    "    }\n",
    "    \n",
    "    //int a[]= {7,33,5,5,23,111,75,34,77,121,120};\n",
    "    \n",
    "    for(int i=0; i<size; i++) \n",
    "        cout<<\"  \"<<a[i];\n",
    "    cout<<endl;\n",
    "    start = omp_get_wtime();\n",
    "    \n",
    "    mergeSort(a, 0, size-1);\n",
    "    \n",
    "    printArray(a, size);\n",
    "    \n",
    "    end = omp_get_wtime();\n",
    "    \n",
    "    cout<<\"Time parallel = \"<<(end-start)<<endl;\n",
    "    \n",
    "    return 0;\n",
    "}\n",
    "\n",
    "\"\"\""
   ]
  },
  {
   "cell_type": "code",
   "execution_count": 0,
   "metadata": {
    "colab": {},
    "colab_type": "code",
    "collapsed": true,
    "id": "d-V6WI-o_XWM"
   },
   "outputs": [],
   "source": [
    "text_file = open(\"merge11.cpp\", \"w\")\n",
    "text_file.write(code)\n",
    "text_file.close()"
   ]
  },
  {
   "cell_type": "code",
   "execution_count": 0,
   "metadata": {
    "colab": {},
    "colab_type": "code",
    "collapsed": true,
    "id": "oT7zOoSe_mhC"
   },
   "outputs": [],
   "source": [
    "!g++ -fopenmp merge11.cpp"
   ]
  },
  {
   "cell_type": "code",
   "execution_count": 58,
   "metadata": {
    "colab": {
     "base_uri": "https://localhost:8080/",
     "height": 68
    },
    "colab_type": "code",
    "id": "LrfIFGhKKkfx",
    "outputId": "df6d2e85-1936-4950-867f-a6bebab6f7fe"
   },
   "outputs": [
    {
     "name": "stdout",
     "output_type": "stream",
     "text": [
      "  83  86  77  15  93  35  86  92  49  21\n",
      "15  21  35  49  77  83  86  86  92  93  \n",
      "Time parallel = 0.000137111\n"
     ]
    }
   ],
   "source": [
    "!./a.out"
   ]
  },
  {
   "cell_type": "code",
   "execution_count": 0,
   "metadata": {
    "colab": {},
    "colab_type": "code",
    "collapsed": true,
    "id": "sfGqlDHQ_qIe"
   },
   "outputs": [],
   "source": []
  }
 ],
 "metadata": {
  "accelerator": "GPU",
  "colab": {
   "collapsed_sections": [],
   "name": "parallelMerge.ipynb",
   "provenance": []
  },
  "kernelspec": {
   "display_name": "Python 3",
   "language": "python",
   "name": "python3"
  },
  "language_info": {
   "codemirror_mode": {
    "name": "ipython",
    "version": 3
   },
   "file_extension": ".py",
   "mimetype": "text/x-python",
   "name": "python",
   "nbconvert_exporter": "python",
   "pygments_lexer": "ipython3",
   "version": "3.6.3"
  }
 },
 "nbformat": 4,
 "nbformat_minor": 1
}
