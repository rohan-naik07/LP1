{
  "nbformat": 4,
  "nbformat_minor": 0,
  "metadata": {
    "colab": {
      "name": "BE1_LP1_P1_41106_DA_R1_Apoorv_Dixit.ipynb",
      "provenance": [],
      "collapsed_sections": [
        "3Bk3PiQ47SBz",
        "9tLBO_A17FFo",
        "4ViXECOTCzH0"
      ]
    },
    "kernelspec": {
      "name": "python3",
      "display_name": "Python 3"
    },
    "accelerator": "GPU"
  },
  "cells": [
    {
      "cell_type": "markdown",
      "metadata": {
        "id": "e_EFcsu2vElx",
        "colab_type": "text"
      },
      "source": [
        "#DA R1 : Iris Flower Dataset"
      ]
    },
    {
      "cell_type": "markdown",
      "metadata": {
        "id": "3Bk3PiQ47SBz",
        "colab_type": "text"
      },
      "source": [
        "## Original Assignment"
      ]
    },
    {
      "cell_type": "code",
      "metadata": {
        "id": "2QbRVn8evKxq",
        "colab_type": "code",
        "colab": {}
      },
      "source": [
        "import pandas as pd\n",
        "import numpy as np\n",
        "import matplotlib.pyplot as plt"
      ],
      "execution_count": null,
      "outputs": []
    },
    {
      "cell_type": "code",
      "metadata": {
        "id": "GqsVFFvWvXmV",
        "colab_type": "code",
        "colab": {
          "base_uri": "https://localhost:8080/"
        },
        "outputId": "1daa3bd8-ffe3-45ad-a0d4-cef5fd9cb158"
      },
      "source": [
        "#Loading Dataset from Sklearn\n",
        "\n",
        "from sklearn import datasets\n",
        "data = datasets.load_iris()\n",
        "df= pd.DataFrame(data= np.c_[data['data']],\n",
        "                 columns= data['feature_names'])\n",
        "df['species'] = pd.Categorical.from_codes(data.target, data.target_names)\n",
        "df.head()"
      ],
      "execution_count": null,
      "outputs": [
        {
          "output_type": "execute_result",
          "data": {
            "text/html": [
              "<div>\n",
              "<style scoped>\n",
              "    .dataframe tbody tr th:only-of-type {\n",
              "        vertical-align: middle;\n",
              "    }\n",
              "\n",
              "    .dataframe tbody tr th {\n",
              "        vertical-align: top;\n",
              "    }\n",
              "\n",
              "    .dataframe thead th {\n",
              "        text-align: right;\n",
              "    }\n",
              "</style>\n",
              "<table border=\"1\" class=\"dataframe\">\n",
              "  <thead>\n",
              "    <tr style=\"text-align: right;\">\n",
              "      <th></th>\n",
              "      <th>sepal length (cm)</th>\n",
              "      <th>sepal width (cm)</th>\n",
              "      <th>petal length (cm)</th>\n",
              "      <th>petal width (cm)</th>\n",
              "      <th>species</th>\n",
              "    </tr>\n",
              "  </thead>\n",
              "  <tbody>\n",
              "    <tr>\n",
              "      <th>0</th>\n",
              "      <td>5.1</td>\n",
              "      <td>3.5</td>\n",
              "      <td>1.4</td>\n",
              "      <td>0.2</td>\n",
              "      <td>setosa</td>\n",
              "    </tr>\n",
              "    <tr>\n",
              "      <th>1</th>\n",
              "      <td>4.9</td>\n",
              "      <td>3.0</td>\n",
              "      <td>1.4</td>\n",
              "      <td>0.2</td>\n",
              "      <td>setosa</td>\n",
              "    </tr>\n",
              "    <tr>\n",
              "      <th>2</th>\n",
              "      <td>4.7</td>\n",
              "      <td>3.2</td>\n",
              "      <td>1.3</td>\n",
              "      <td>0.2</td>\n",
              "      <td>setosa</td>\n",
              "    </tr>\n",
              "    <tr>\n",
              "      <th>3</th>\n",
              "      <td>4.6</td>\n",
              "      <td>3.1</td>\n",
              "      <td>1.5</td>\n",
              "      <td>0.2</td>\n",
              "      <td>setosa</td>\n",
              "    </tr>\n",
              "    <tr>\n",
              "      <th>4</th>\n",
              "      <td>5.0</td>\n",
              "      <td>3.6</td>\n",
              "      <td>1.4</td>\n",
              "      <td>0.2</td>\n",
              "      <td>setosa</td>\n",
              "    </tr>\n",
              "  </tbody>\n",
              "</table>\n",
              "</div>"
            ],
            "text/plain": [
              "   sepal length (cm)  sepal width (cm)  ...  petal width (cm)  species\n",
              "0                5.1               3.5  ...               0.2   setosa\n",
              "1                4.9               3.0  ...               0.2   setosa\n",
              "2                4.7               3.2  ...               0.2   setosa\n",
              "3                4.6               3.1  ...               0.2   setosa\n",
              "4                5.0               3.6  ...               0.2   setosa\n",
              "\n",
              "[5 rows x 5 columns]"
            ]
          },
          "metadata": {
            "tags": []
          },
          "execution_count": 3
        }
      ]
    },
    {
      "cell_type": "code",
      "metadata": {
        "id": "swgcjWOAzveQ",
        "colab_type": "code",
        "colab": {
          "base_uri": "https://localhost:8080/"
        },
        "outputId": "d480b5e2-9071-4f65-aaaf-07a11f5b1adc"
      },
      "source": [
        "print(\"Number of features : \",df.shape[1])"
      ],
      "execution_count": null,
      "outputs": [
        {
          "output_type": "stream",
          "text": [
            "Number of features :  5\n"
          ],
          "name": "stdout"
        }
      ]
    },
    {
      "cell_type": "code",
      "metadata": {
        "id": "6WsFHbNE1Abt",
        "colab_type": "code",
        "colab": {
          "base_uri": "https://localhost:8080/"
        },
        "outputId": "b22eb12b-8d0c-4e4b-9345-9e63b7e7aade"
      },
      "source": [
        "for (colname, coldata) in df.iteritems():\n",
        "  feature_type = 'numerical' if (coldata.dtype=='float64') else 'nominal'\n",
        "  print('\\nColumn Name - ',colname)\n",
        "  print('Feature type - ',feature_type)"
      ],
      "execution_count": null,
      "outputs": [
        {
          "output_type": "stream",
          "text": [
            "\n",
            "Column Name -  sepal length (cm)\n",
            "Feature type -  numerical\n",
            "\n",
            "Column Name -  sepal width (cm)\n",
            "Feature type -  numerical\n",
            "\n",
            "Column Name -  petal length (cm)\n",
            "Feature type -  numerical\n",
            "\n",
            "Column Name -  petal width (cm)\n",
            "Feature type -  numerical\n",
            "\n",
            "Column Name -  species\n",
            "Feature type -  nominal\n"
          ],
          "name": "stdout"
        }
      ]
    },
    {
      "cell_type": "code",
      "metadata": {
        "id": "B1tftb-d2hkO",
        "colab_type": "code",
        "colab": {
          "base_uri": "https://localhost:8080/"
        },
        "outputId": "73a32409-e9a6-4c1f-b9fd-d3f6d27f285a"
      },
      "source": [
        "df.describe()"
      ],
      "execution_count": null,
      "outputs": [
        {
          "output_type": "execute_result",
          "data": {
            "text/html": [
              "<div>\n",
              "<style scoped>\n",
              "    .dataframe tbody tr th:only-of-type {\n",
              "        vertical-align: middle;\n",
              "    }\n",
              "\n",
              "    .dataframe tbody tr th {\n",
              "        vertical-align: top;\n",
              "    }\n",
              "\n",
              "    .dataframe thead th {\n",
              "        text-align: right;\n",
              "    }\n",
              "</style>\n",
              "<table border=\"1\" class=\"dataframe\">\n",
              "  <thead>\n",
              "    <tr style=\"text-align: right;\">\n",
              "      <th></th>\n",
              "      <th>sepal length (cm)</th>\n",
              "      <th>sepal width (cm)</th>\n",
              "      <th>petal length (cm)</th>\n",
              "      <th>petal width (cm)</th>\n",
              "    </tr>\n",
              "  </thead>\n",
              "  <tbody>\n",
              "    <tr>\n",
              "      <th>count</th>\n",
              "      <td>150.000000</td>\n",
              "      <td>150.000000</td>\n",
              "      <td>150.000000</td>\n",
              "      <td>150.000000</td>\n",
              "    </tr>\n",
              "    <tr>\n",
              "      <th>mean</th>\n",
              "      <td>5.843333</td>\n",
              "      <td>3.057333</td>\n",
              "      <td>3.758000</td>\n",
              "      <td>1.199333</td>\n",
              "    </tr>\n",
              "    <tr>\n",
              "      <th>std</th>\n",
              "      <td>0.828066</td>\n",
              "      <td>0.435866</td>\n",
              "      <td>1.765298</td>\n",
              "      <td>0.762238</td>\n",
              "    </tr>\n",
              "    <tr>\n",
              "      <th>min</th>\n",
              "      <td>4.300000</td>\n",
              "      <td>2.000000</td>\n",
              "      <td>1.000000</td>\n",
              "      <td>0.100000</td>\n",
              "    </tr>\n",
              "    <tr>\n",
              "      <th>25%</th>\n",
              "      <td>5.100000</td>\n",
              "      <td>2.800000</td>\n",
              "      <td>1.600000</td>\n",
              "      <td>0.300000</td>\n",
              "    </tr>\n",
              "    <tr>\n",
              "      <th>50%</th>\n",
              "      <td>5.800000</td>\n",
              "      <td>3.000000</td>\n",
              "      <td>4.350000</td>\n",
              "      <td>1.300000</td>\n",
              "    </tr>\n",
              "    <tr>\n",
              "      <th>75%</th>\n",
              "      <td>6.400000</td>\n",
              "      <td>3.300000</td>\n",
              "      <td>5.100000</td>\n",
              "      <td>1.800000</td>\n",
              "    </tr>\n",
              "    <tr>\n",
              "      <th>max</th>\n",
              "      <td>7.900000</td>\n",
              "      <td>4.400000</td>\n",
              "      <td>6.900000</td>\n",
              "      <td>2.500000</td>\n",
              "    </tr>\n",
              "  </tbody>\n",
              "</table>\n",
              "</div>"
            ],
            "text/plain": [
              "       sepal length (cm)  sepal width (cm)  petal length (cm)  petal width (cm)\n",
              "count         150.000000        150.000000         150.000000        150.000000\n",
              "mean            5.843333          3.057333           3.758000          1.199333\n",
              "std             0.828066          0.435866           1.765298          0.762238\n",
              "min             4.300000          2.000000           1.000000          0.100000\n",
              "25%             5.100000          2.800000           1.600000          0.300000\n",
              "50%             5.800000          3.000000           4.350000          1.300000\n",
              "75%             6.400000          3.300000           5.100000          1.800000\n",
              "max             7.900000          4.400000           6.900000          2.500000"
            ]
          },
          "metadata": {
            "tags": []
          },
          "execution_count": 7
        }
      ]
    },
    {
      "cell_type": "code",
      "metadata": {
        "id": "YpFgLKzS3ZzY",
        "colab_type": "code",
        "colab": {
          "base_uri": "https://localhost:8080/"
        },
        "outputId": "d9e3b2db-c148-457a-a787-dc4825bd292d"
      },
      "source": [
        "df.var()"
      ],
      "execution_count": null,
      "outputs": [
        {
          "output_type": "execute_result",
          "data": {
            "text/plain": [
              "sepal length (cm)    0.685694\n",
              "sepal width (cm)     0.189979\n",
              "petal length (cm)    3.116278\n",
              "petal width (cm)     0.581006\n",
              "dtype: float64"
            ]
          },
          "metadata": {
            "tags": []
          },
          "execution_count": 8
        }
      ]
    },
    {
      "cell_type": "code",
      "metadata": {
        "id": "G6zZ4V8z3yh2",
        "colab_type": "code",
        "colab": {
          "base_uri": "https://localhost:8080/"
        },
        "outputId": "1b88d8bc-8a9a-49f9-d260-d7481e7f9cef"
      },
      "source": [
        "for (colname, coldata) in df.iteritems():\n",
        "  if(coldata.dtype=='float64'):\n",
        "    print('\\nFeature : ',colname)\n",
        "    print('Max : ',coldata.max())\n",
        "    print('Min : ',coldata.min())\n",
        "    print('Range : ',str(coldata.max()-coldata.min()))"
      ],
      "execution_count": null,
      "outputs": [
        {
          "output_type": "stream",
          "text": [
            "\n",
            "Feature :  sepal length (cm)\n",
            "Max :  7.9\n",
            "Min :  4.3\n",
            "Range :  3.6000000000000005\n",
            "\n",
            "Feature :  sepal width (cm)\n",
            "Max :  4.4\n",
            "Min :  2.0\n",
            "Range :  2.4000000000000004\n",
            "\n",
            "Feature :  petal length (cm)\n",
            "Max :  6.9\n",
            "Min :  1.0\n",
            "Range :  5.9\n",
            "\n",
            "Feature :  petal width (cm)\n",
            "Max :  2.5\n",
            "Min :  0.1\n",
            "Range :  2.4\n"
          ],
          "name": "stdout"
        }
      ]
    },
    {
      "cell_type": "code",
      "metadata": {
        "id": "UAzVpj_g6fIk",
        "colab_type": "code",
        "colab": {
          "base_uri": "https://localhost:8080/"
        },
        "outputId": "a9282bf6-4dbd-41dd-87cd-a6542e06c091"
      },
      "source": [
        "df.hist()\n",
        "plt.show()"
      ],
      "execution_count": null,
      "outputs": [
        {
          "output_type": "display_data",
          "data": {
            "image/png": "[encoded data removed]",
            "text/plain": [
              "<Figure size 432x288 with 4 Axes>"
            ]
          },
          "metadata": {
            "tags": [],
            "needs_background": "light"
          }
        }
      ]
    },
    {
      "cell_type": "code",
      "metadata": {
        "id": "FHJlDhP156rv",
        "colab_type": "code",
        "colab": {
          "base_uri": "https://localhost:8080/"
        },
        "outputId": "74cb8995-9673-400e-9251-b43e3c15d06f"
      },
      "source": [
        "df.plot(kind='box', subplots=True, layout=(2,2), sharex=False, sharey=False)\n",
        "plt.show()"
      ],
      "execution_count": null,
      "outputs": [
        {
          "output_type": "display_data",
          "data": {
            "image/png": "[encoded data removed]",
            "text/plain": [
              "<Figure size 432x288 with 4 Axes>"
            ]
          },
          "metadata": {
            "tags": [],
            "needs_background": "light"
          }
        }
      ]
    },
    {
      "cell_type": "markdown",
      "metadata": {
        "id": "9tLBO_A17FFo",
        "colab_type": "text"
      },
      "source": [
        "## Modification"
      ]
    },
    {
      "cell_type": "code",
      "metadata": {
        "id": "6fRXh-Vg6I1j",
        "colab_type": "code",
        "colab": {}
      },
      "source": [
        "# Naming Convention - Preceded by an underscore\n",
        "\n",
        "class _Sepal:\n",
        "\n",
        "  #Private Variables\n",
        "  __length = None\n",
        "  __width = None\n",
        "\n",
        "  def __init__(self,l,w):\n",
        "    self.__length = l\n",
        "    self.__width = w\n",
        "\n",
        "  def setLength(l):\n",
        "    self.__length=l\n",
        "\n",
        "  def setWidth(w):\n",
        "    self.__width=w\n",
        "\n",
        "  def getLength(self):\n",
        "    return self.__length\n",
        "\n",
        "  def getWidth(self):\n",
        "    return self.__width"
      ],
      "execution_count": null,
      "outputs": []
    },
    {
      "cell_type": "code",
      "metadata": {
        "id": "0EN156rd6yY3",
        "colab_type": "code",
        "colab": {}
      },
      "source": [
        "# Naming Convention - Preceded by an underscore\n",
        "\n",
        "class _Petal:\n",
        "\n",
        "  #Private Variables\n",
        "  __length = None\n",
        "  __width = None\n",
        "\n",
        "  def __init__(self,l,w):\n",
        "    self.__length = l\n",
        "    self.__width = w\n",
        "\n",
        "  def setLength(l):\n",
        "    self.__length=l\n",
        "\n",
        "  def setWidth(w):\n",
        "    self.__width=w\n",
        "\n",
        "  def getLength(self):\n",
        "    return self.__length\n",
        "\n",
        "  def getWidth(self):\n",
        "    return self.__width"
      ],
      "execution_count": null,
      "outputs": []
    },
    {
      "cell_type": "code",
      "metadata": {
        "id": "5NVDPE4C7P8V",
        "colab_type": "code",
        "colab": {}
      },
      "source": [
        "class Iris:\n",
        "\n",
        "  def __init__(self,pl,pw,sl,sw):\n",
        "    self.petal = _Petal(pl,pw)\n",
        "    self.sepal = _Sepal(sl,sw)\n",
        "\n",
        "  def appendToDataFrame(self):\n",
        "    pass"
      ],
      "execution_count": null,
      "outputs": []
    },
    {
      "cell_type": "code",
      "metadata": {
        "id": "cIVdn99t7-NS",
        "colab_type": "code",
        "colab": {}
      },
      "source": [
        "class Setosa(Iris):\n",
        "\n",
        "  # Private Variable\n",
        "  __species = 'setosa'\n",
        "  \n",
        "  petal = None\n",
        "  sepal = None\n",
        "\n",
        "  def __init__(self,pl,pw,sl,sw):\n",
        "    self.petal = _Petal(pl,pw)\n",
        "    self.sepal = _Sepal(sl,sw)\n",
        "    Iris.__init__(self,pl,pw,sl,sw)\n",
        "\n",
        "  def getSpecies(self):\n",
        "    return self.__species\n",
        "\n",
        "  def appendToDataFrame(self):\n",
        "    global df\n",
        "    df = df.append({\n",
        "            'sepal length (cm)':self.sepal.getLength(),\n",
        "            'sepal width (cm)':self.sepal.getWidth(),\n",
        "            'petal length (cm)':self.petal.getLength(),\n",
        "            'petal width (cm)':self.petal.getWidth(),\n",
        "            'species':self.__species\n",
        "         },ignore_index=True)"
      ],
      "execution_count": null,
      "outputs": []
    },
    {
      "cell_type": "code",
      "metadata": {
        "id": "6V31kHjcCKFY",
        "colab_type": "code",
        "colab": {}
      },
      "source": [
        "class Virginica(Iris):\n",
        "\n",
        "  # Private Variable\n",
        "  __species = 'virginica'\n",
        "  \n",
        "  petal = None\n",
        "  sepal = None\n",
        "\n",
        "  def __init__(self,pl,pw,sl,sw):\n",
        "    self.petal = _Petal(pl,pw)\n",
        "    self.sepal = _Sepal(sl,sw)\n",
        "    Iris.__init__(self,pl,pw,sl,sw)\n",
        "\n",
        "  def getSpecies(self):\n",
        "    return self.__species\n",
        "\n",
        "  def appendToDataFrame(self):\n",
        "    global df\n",
        "    df = df.append({\n",
        "            'sepal length (cm)':self.sepal.getLength(),\n",
        "            'sepal width (cm)':self.sepal.getWidth(),\n",
        "            'petal length (cm)':self.petal.getLength(),\n",
        "            'petal width (cm)':self.petal.getWidth(),\n",
        "            'species':self.__species\n",
        "         },ignore_index=True)"
      ],
      "execution_count": null,
      "outputs": []
    },
    {
      "cell_type": "code",
      "metadata": {
        "id": "8Mdelti9CKRv",
        "colab_type": "code",
        "colab": {}
      },
      "source": [
        "class Versicolor(Iris):\n",
        "\n",
        "  # Private Variable\n",
        "  __species = 'versicolor'\n",
        "  \n",
        "  petal = None\n",
        "  sepal = None\n",
        "\n",
        "  def __init__(self,pl,pw,sl,sw):\n",
        "    self.petal = _Petal(pl,pw)\n",
        "    self.sepal = _Sepal(sl,sw)\n",
        "    Iris.__init__(self,pl,pw,sl,sw)\n",
        "\n",
        "  def getSpecies(self):\n",
        "    return self.__species\n",
        "\n",
        "  def appendToDataFrame(self):\n",
        "    global df\n",
        "    df = df.append({\n",
        "            'sepal length (cm)':self.sepal.getLength(),\n",
        "            'sepal width (cm)':self.sepal.getWidth(),\n",
        "            'petal length (cm)':self.petal.getLength(),\n",
        "            'petal width (cm)':self.petal.getWidth(),\n",
        "            'species':self.__species\n",
        "         },ignore_index=True)"
      ],
      "execution_count": null,
      "outputs": []
    },
    {
      "cell_type": "code",
      "metadata": {
        "id": "Y0oED-qrNPxN",
        "colab_type": "code",
        "colab": {
          "base_uri": "https://localhost:8080/",
          "height": 197
        },
        "outputId": "87ca2bb4-b406-4c59-dda6-fa3a176eb56e"
      },
      "source": [
        "df.tail()"
      ],
      "execution_count": null,
      "outputs": [
        {
          "output_type": "execute_result",
          "data": {
            "text/html": [
              "<div>\n",
              "<style scoped>\n",
              "    .dataframe tbody tr th:only-of-type {\n",
              "        vertical-align: middle;\n",
              "    }\n",
              "\n",
              "    .dataframe tbody tr th {\n",
              "        vertical-align: top;\n",
              "    }\n",
              "\n",
              "    .dataframe thead th {\n",
              "        text-align: right;\n",
              "    }\n",
              "</style>\n",
              "<table border=\"1\" class=\"dataframe\">\n",
              "  <thead>\n",
              "    <tr style=\"text-align: right;\">\n",
              "      <th></th>\n",
              "      <th>sepal length (cm)</th>\n",
              "      <th>sepal width (cm)</th>\n",
              "      <th>petal length (cm)</th>\n",
              "      <th>petal width (cm)</th>\n",
              "      <th>species</th>\n",
              "    </tr>\n",
              "  </thead>\n",
              "  <tbody>\n",
              "    <tr>\n",
              "      <th>172</th>\n",
              "      <td>2.0</td>\n",
              "      <td>2.0</td>\n",
              "      <td>2.0</td>\n",
              "      <td>2.0</td>\n",
              "      <td>virginica</td>\n",
              "    </tr>\n",
              "    <tr>\n",
              "      <th>173</th>\n",
              "      <td>3.0</td>\n",
              "      <td>3.0</td>\n",
              "      <td>3.0</td>\n",
              "      <td>3.0</td>\n",
              "      <td>versicolor</td>\n",
              "    </tr>\n",
              "    <tr>\n",
              "      <th>174</th>\n",
              "      <td>1.0</td>\n",
              "      <td>1.0</td>\n",
              "      <td>1.0</td>\n",
              "      <td>1.0</td>\n",
              "      <td>setosa</td>\n",
              "    </tr>\n",
              "    <tr>\n",
              "      <th>175</th>\n",
              "      <td>2.0</td>\n",
              "      <td>2.0</td>\n",
              "      <td>2.0</td>\n",
              "      <td>2.0</td>\n",
              "      <td>virginica</td>\n",
              "    </tr>\n",
              "    <tr>\n",
              "      <th>176</th>\n",
              "      <td>3.0</td>\n",
              "      <td>3.0</td>\n",
              "      <td>3.0</td>\n",
              "      <td>3.0</td>\n",
              "      <td>versicolor</td>\n",
              "    </tr>\n",
              "  </tbody>\n",
              "</table>\n",
              "</div>"
            ],
            "text/plain": [
              "     sepal length (cm)  sepal width (cm)  ...  petal width (cm)     species\n",
              "172                2.0               2.0  ...               2.0   virginica\n",
              "173                3.0               3.0  ...               3.0  versicolor\n",
              "174                1.0               1.0  ...               1.0      setosa\n",
              "175                2.0               2.0  ...               2.0   virginica\n",
              "176                3.0               3.0  ...               3.0  versicolor\n",
              "\n",
              "[5 rows x 5 columns]"
            ]
          },
          "metadata": {
            "tags": []
          },
          "execution_count": 147
        }
      ]
    },
    {
      "cell_type": "code",
      "metadata": {
        "id": "GdfaDBtpNUHS",
        "colab_type": "code",
        "colab": {}
      },
      "source": [
        "setosa = Setosa(1.0,1.0,1.0,1.0)\n",
        "setosa.appendToDataFrame()\n",
        "\n",
        "virginica = Virginica(2.0,2.0,2.0,2.0)\n",
        "virginica.appendToDataFrame()\n",
        "\n",
        "versicolor = Versicolor(3.0,3.0,3.0,3.0)\n",
        "versicolor.appendToDataFrame()"
      ],
      "execution_count": null,
      "outputs": []
    },
    {
      "cell_type": "code",
      "metadata": {
        "id": "94Tjn6tLNs9l",
        "colab_type": "code",
        "colab": {
          "base_uri": "https://localhost:8080/",
          "height": 287
        },
        "outputId": "262ae08f-7f50-4202-96b7-90792f8191ac"
      },
      "source": [
        "df.tail(8)"
      ],
      "execution_count": null,
      "outputs": [
        {
          "output_type": "execute_result",
          "data": {
            "text/html": [
              "<div>\n",
              "<style scoped>\n",
              "    .dataframe tbody tr th:only-of-type {\n",
              "        vertical-align: middle;\n",
              "    }\n",
              "\n",
              "    .dataframe tbody tr th {\n",
              "        vertical-align: top;\n",
              "    }\n",
              "\n",
              "    .dataframe thead th {\n",
              "        text-align: right;\n",
              "    }\n",
              "</style>\n",
              "<table border=\"1\" class=\"dataframe\">\n",
              "  <thead>\n",
              "    <tr style=\"text-align: right;\">\n",
              "      <th></th>\n",
              "      <th>sepal length (cm)</th>\n",
              "      <th>sepal width (cm)</th>\n",
              "      <th>petal length (cm)</th>\n",
              "      <th>petal width (cm)</th>\n",
              "      <th>species</th>\n",
              "    </tr>\n",
              "  </thead>\n",
              "  <tbody>\n",
              "    <tr>\n",
              "      <th>172</th>\n",
              "      <td>2.0</td>\n",
              "      <td>2.0</td>\n",
              "      <td>2.0</td>\n",
              "      <td>2.0</td>\n",
              "      <td>virginica</td>\n",
              "    </tr>\n",
              "    <tr>\n",
              "      <th>173</th>\n",
              "      <td>3.0</td>\n",
              "      <td>3.0</td>\n",
              "      <td>3.0</td>\n",
              "      <td>3.0</td>\n",
              "      <td>versicolor</td>\n",
              "    </tr>\n",
              "    <tr>\n",
              "      <th>174</th>\n",
              "      <td>1.0</td>\n",
              "      <td>1.0</td>\n",
              "      <td>1.0</td>\n",
              "      <td>1.0</td>\n",
              "      <td>setosa</td>\n",
              "    </tr>\n",
              "    <tr>\n",
              "      <th>175</th>\n",
              "      <td>2.0</td>\n",
              "      <td>2.0</td>\n",
              "      <td>2.0</td>\n",
              "      <td>2.0</td>\n",
              "      <td>virginica</td>\n",
              "    </tr>\n",
              "    <tr>\n",
              "      <th>176</th>\n",
              "      <td>3.0</td>\n",
              "      <td>3.0</td>\n",
              "      <td>3.0</td>\n",
              "      <td>3.0</td>\n",
              "      <td>versicolor</td>\n",
              "    </tr>\n",
              "    <tr>\n",
              "      <th>177</th>\n",
              "      <td>1.0</td>\n",
              "      <td>1.0</td>\n",
              "      <td>1.0</td>\n",
              "      <td>1.0</td>\n",
              "      <td>setosa</td>\n",
              "    </tr>\n",
              "    <tr>\n",
              "      <th>178</th>\n",
              "      <td>2.0</td>\n",
              "      <td>2.0</td>\n",
              "      <td>2.0</td>\n",
              "      <td>2.0</td>\n",
              "      <td>virginica</td>\n",
              "    </tr>\n",
              "    <tr>\n",
              "      <th>179</th>\n",
              "      <td>3.0</td>\n",
              "      <td>3.0</td>\n",
              "      <td>3.0</td>\n",
              "      <td>3.0</td>\n",
              "      <td>versicolor</td>\n",
              "    </tr>\n",
              "  </tbody>\n",
              "</table>\n",
              "</div>"
            ],
            "text/plain": [
              "     sepal length (cm)  sepal width (cm)  ...  petal width (cm)     species\n",
              "172                2.0               2.0  ...               2.0   virginica\n",
              "173                3.0               3.0  ...               3.0  versicolor\n",
              "174                1.0               1.0  ...               1.0      setosa\n",
              "175                2.0               2.0  ...               2.0   virginica\n",
              "176                3.0               3.0  ...               3.0  versicolor\n",
              "177                1.0               1.0  ...               1.0      setosa\n",
              "178                2.0               2.0  ...               2.0   virginica\n",
              "179                3.0               3.0  ...               3.0  versicolor\n",
              "\n",
              "[8 rows x 5 columns]"
            ]
          },
          "metadata": {
            "tags": []
          },
          "execution_count": 149
        }
      ]
    },
    {
      "cell_type": "markdown",
      "metadata": {
        "id": "4ViXECOTCzH0",
        "colab_type": "text"
      },
      "source": [
        "## Further Modification Demonstration"
      ]
    },
    {
      "cell_type": "code",
      "metadata": {
        "id": "Ds5RbDB_FMS_",
        "colab_type": "code",
        "colab": {}
      },
      "source": [
        "#This cell will give an error\n",
        "\n",
        "print(setosa.__species)"
      ],
      "execution_count": null,
      "outputs": []
    },
    {
      "cell_type": "code",
      "metadata": {
        "id": "uxWZPHIrFP-f",
        "colab_type": "code",
        "colab": {}
      },
      "source": [
        "#This cell will give an error\n",
        "\n",
        "print(setosa.species)"
      ],
      "execution_count": null,
      "outputs": []
    },
    {
      "cell_type": "code",
      "metadata": {
        "id": "gyLUsem_Ev4x",
        "colab_type": "code",
        "colab": {
          "base_uri": "https://localhost:8080/",
          "height": 34
        },
        "outputId": "ed14431b-bc62-4b93-e2f2-42356d5dcfab"
      },
      "source": [
        "print(setosa.getSpecies())"
      ],
      "execution_count": null,
      "outputs": [
        {
          "output_type": "stream",
          "text": [
            "setosa\n"
          ],
          "name": "stdout"
        }
      ]
    },
    {
      "cell_type": "code",
      "metadata": {
        "id": "z9MqOU1ASPAP",
        "colab_type": "code",
        "colab": {
          "base_uri": "https://localhost:8080/",
          "height": 34
        },
        "outputId": "ad8f725e-38ee-46a4-b09a-b19e1d4d8bc3"
      },
      "source": [
        "#Name Mangling in Python\n",
        "\n",
        "print(setosa._Setosa__species)"
      ],
      "execution_count": null,
      "outputs": [
        {
          "output_type": "stream",
          "text": [
            "setosa\n"
          ],
          "name": "stdout"
        }
      ]
    }
  ]
}