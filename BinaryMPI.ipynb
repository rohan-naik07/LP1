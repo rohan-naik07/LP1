{
 "cells": [
  {
   "cell_type": "code",
   "execution_count": 0,
   "metadata": {
    "colab": {},
    "colab_type": "code",
    "collapsed": true,
    "id": "SiG1yo8fBqVb"
   },
   "outputs": [],
   "source": [
    "code = \"\"\"\n",
    "#include<mpi.h>\n",
    "#include<stdio.h>\n",
    "\n",
    "#define n 12\n",
    "\n",
    "#define key 55\n",
    "\n",
    "int a[] = {1,2,3,4,7,9,13,24,55,56,67,88};\n",
    "\n",
    "int a2[20];\n",
    "\n",
    "int binarySearch(int *array, int start, int end, int value) {\n",
    "    int mid;\n",
    "    \n",
    "    while(start <= end) {\n",
    "        mid = (start + end) / 2;\n",
    "        if(array[mid] == value) \n",
    "            return mid;\n",
    "        else if(array[mid] > value)\n",
    "            end = mid - 1;\n",
    "        else\n",
    "            start = mid + 1;\n",
    "    }\n",
    "    return -1;\n",
    "}\n",
    "\n",
    "int main(int argc, char* argv[]) {\n",
    "    int pid, np, elements_per_process, n_elements_received;\n",
    "    \n",
    "    MPI_Status status;\n",
    "    \n",
    "    MPI_Init(&argc, &argv);\n",
    "    \n",
    "    MPI_Comm_rank(MPI_COMM_WORLD, &pid);\n",
    "    MPI_Comm_size(MPI_COMM_WORLD, &np);\n",
    "    \n",
    "    if(pid == 0) {\n",
    "        int index, i;\n",
    "        \n",
    "        if(np > 1) {\n",
    "            for(i=1; i<np-1; i++) {\n",
    "                \n",
    "                index = i * elements_per_process;\n",
    "                //element count\n",
    "                MPI_Send(&elements_per_process, 1, MPI_INT, i, 0, MPI_COMM_WORLD);\n",
    "\n",
    "                MPI_Send(&a[index], elements_per_process, MPI_INT, i, 0, MPI_COMM_WORLD);\n",
    "            \n",
    "            }\n",
    "            \n",
    "            index = i* elements_per_process;\n",
    "            \n",
    "            int elements_left = n - index;\n",
    "            \n",
    "            MPI_Send(&elements_left, 1, MPI_INT, i, 0, MPI_COMM_WORLD);\n",
    "            \n",
    "            MPI_Send(&a[index], elements_left, MPI_INT, i, 0, MPI_COMM_WORLD);\n",
    "        }\n",
    "        \n",
    "        int position = binarySearch(a, 0, elements_per_process-1, key);\n",
    "        \n",
    "        if(position != -1)\n",
    "          printf(\"Found at: %d\", position);\n",
    "        \n",
    "        int temp;\n",
    "        \n",
    "        for(i=1; i<np; i++) {\n",
    "            MPI_Recv(&temp, 1, MPI_INT, MPI_ANY_SOURCE, 0, MPI_COMM_WORLD, &status);\n",
    "            int sender = status.MPI_SOURCE;\n",
    "            \n",
    "            if(temp != -1)\n",
    "                printf(\"Found at: %d by %d\", (sender*elements_per_process)+temp, sender);\n",
    "        }\n",
    "    }\n",
    "    \n",
    "    else {\n",
    "        MPI_Recv(&n_elements_received, 1, MPI_INT, 0, 0, MPI_COMM_WORLD, &status);\n",
    "        \n",
    "        MPI_Recv(&a2, n_elements_received, MPI_INT, 0, 0, MPI_COMM_WORLD, &status);\n",
    "    \n",
    "        int position = binarySearch(a2, 0, n_elements_received-1, key);\n",
    "        \n",
    "        MPI_Send(&position, 1, MPI_INT, 0, 0, MPI_COMM_WORLD);\n",
    "    }\n",
    "    \n",
    "    MPI_Finalize();\n",
    "    \n",
    "    return 0;\n",
    "}\n",
    "\"\"\""
   ]
  },
  {
   "cell_type": "code",
   "execution_count": 0,
   "metadata": {
    "colab": {},
    "colab_type": "code",
    "collapsed": true,
    "id": "eDwKbhr2G-Sp"
   },
   "outputs": [],
   "source": [
    "text_file = open(\"mpiBinary.c\", \"w\");\n",
    "text_file.write(code);\n",
    "text_file.close();"
   ]
  },
  {
   "cell_type": "code",
   "execution_count": 0,
   "metadata": {
    "colab": {},
    "colab_type": "code",
    "collapsed": true,
    "id": "0g290L70HN2D"
   },
   "outputs": [],
   "source": [
    "!mpiCC mpiBinary.c"
   ]
  },
  {
   "cell_type": "code",
   "execution_count": 4,
   "metadata": {
    "colab": {
     "base_uri": "https://localhost:8080/",
     "height": 34
    },
    "colab_type": "code",
    "id": "9Ie0NBXTHWu5",
    "outputId": "62dce4a9-b2d2-4c81-f026-8c5dcdecc817"
   },
   "outputs": [
    {
     "name": "stdout",
     "output_type": "stream",
     "text": [
      "Found at: 8 by 3"
     ]
    }
   ],
   "source": [
    "!mpirun --allow-run-as-root -np 4 ./a.out"
   ]
  },
  {
   "cell_type": "code",
   "execution_count": 0,
   "metadata": {
    "colab": {},
    "colab_type": "code",
    "collapsed": true,
    "id": "UVf1rWJLHe6c"
   },
   "outputs": [],
   "source": []
  }
 ],
 "metadata": {
  "accelerator": "GPU",
  "colab": {
   "name": "BinaryMPI.ipynb",
   "provenance": []
  },
  "kernelspec": {
   "display_name": "Python 3",
   "language": "python",
   "name": "python3"
  },
  "language_info": {
   "codemirror_mode": {
    "name": "ipython",
    "version": 3
   },
   "file_extension": ".py",
   "mimetype": "text/x-python",
   "name": "python",
   "nbconvert_exporter": "python",
   "pygments_lexer": "ipython3",
   "version": "3.6.3"
  }
 },
 "nbformat": 4,
 "nbformat_minor": 1
}
